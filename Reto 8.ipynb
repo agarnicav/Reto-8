{
 "cells": [
  {
   "attachments": {},
   "cell_type": "markdown",
   "metadata": {},
   "source": [
    "1. Imprimir un listado con los números del 1 al 100 cada uno con su respectivo cuadrado."
   ]
  },
  {
   "cell_type": "code",
   "execution_count": null,
   "metadata": {},
   "outputs": [],
   "source": [
    "# Se utiliza la función range() para generar los números del 1 al 100 y se itera sobre ellos con un bucle for\n",
    "for n in range(1, 101):\n",
    "# Se imprime el número actual junto con su cuadrado, utilizando la función str() para convertir los números en cadenas de texto\n",
    "    print(\"El cuadrado del numero \" + str(n) + \" es \" + str(n**2))"
   ]
  },
  {
   "attachments": {},
   "cell_type": "markdown",
   "metadata": {},
   "source": [
    "2. Imprimir un listado con los números impares desde 1 hasta 999 y seguidamente otro listado con los números pares desde 2 hasta 1000."
   ]
  },
  {
   "cell_type": "code",
   "execution_count": null,
   "metadata": {},
   "outputs": [],
   "source": [
    "# Se utiliza la función range() para generar los números impares desde 1 hasta 999 y se itera sobre ellos con un bucle for\n",
    "print(\"los numeros impares desde 1 hasta 999 son\")\n",
    "for i in range(1, 1000, 2):\n",
    "    print(i)  # se imprime la lista de numeros desde 1 a 999 que son impares\n",
    "\n",
    "# Se utiliza la función range() para generar los números pares desde 2 hasta 1000 y se itera sobre ellos con un bucle for\n",
    "    print(\"los numeros pares desde 2 hasta 1000 son\")\n",
    "    for u in range(2, 1001, 2):\n",
    "        print(u)   # se imprime la lista de numeros desde 2 a 1000 que son pares"
   ]
  },
  {
   "attachments": {},
   "cell_type": "markdown",
   "metadata": {},
   "source": [
    "3. Imprimir los números pares en forma descendente hasta 2 que son menores o iguales a un número natural n ≥ 2 dado\n"
   ]
  },
  {
   "cell_type": "code",
   "execution_count": null,
   "metadata": {},
   "outputs": [],
   "source": [
    "# Se solicita ingresar un número entero y se almacena en la variable n.\n",
    "n = int(input(\"Ingrese un número: \"))\n",
    "\n",
    "# Se utiliza un ciclo for para iterar desde el número n hasta el número 2 en orden descendente.\n",
    "# Se verifica si cada número en el ciclo es divisible por 2, si lo es, se imprime el número.\n",
    "print(\"Los números pares en forma descendente desde 2 hasta\", n, \"son:\")\n",
    "for i in range(n, 1, -1):\n",
    "     if i % 2 == 0:\n",
    "         print(i)\n"
   ]
  },
  {
   "attachments": {},
   "cell_type": "markdown",
   "metadata": {},
   "source": [
    "4. Imprimir los números de 1 hasta un número natural n dado, cada uno con su respectivo factorial.\n"
   ]
  },
  {
   "cell_type": "code",
   "execution_count": null,
   "metadata": {},
   "outputs": [],
   "source": [
    "# Se solicita ingresar un número entero y se almacena en la variable n.\n",
    "n = int(input(\"Ingrese un número: \"))\n",
    "\n",
    "# Se utiliza un ciclo for para iterar desde el número 1 hasta el número n ingresado por el usuario.\n",
    "# Para cada número en el ciclo, se calcula su factorial utilizando otro ciclo for interno.\n",
    "# El factorial se calcula multiplicando el número actual por todos los números enteros positivos menores o iguales a él.\n",
    "# Finalmente, se imprime el número y su factorial en la salida.\n",
    "for i in range(1, n+1):\n",
    "    factorial = 1\n",
    "    for j in range(1, i+1):\n",
    "        factorial *= j\n",
    "        print(str(i) + \" y su factorial es \" + str(factorial))"
   ]
  },
  {
   "attachments": {},
   "cell_type": "markdown",
   "metadata": {},
   "source": [
    "5. Calcular el valor de 2 elevado a la potencia n usando ciclos for.\n"
   ]
  },
  {
   "cell_type": "code",
   "execution_count": null,
   "metadata": {},
   "outputs": [],
   "source": [
    "# Se solicita ingresar un número entero y se almacena en la variable n.\n",
    "n = int(input(\"Ingrese un número: \"))\n",
    "\n",
    "# Se utiliza un ciclo for para iterar desde 1 hasta el número ingresado por el usuario.\n",
    "# En cada iteración se calcula el valor de 2 elevado a la potencia actual (u).\n",
    "# Se imprime el resultado de cada potencia en la salida.\n",
    "for u in range(1,n+1): \n",
    "    h= 2**u\n",
    "    print(h)\n"
   ]
  },
  {
   "attachments": {},
   "cell_type": "markdown",
   "metadata": {},
   "source": [
    "6. Leer un número natural n, leer otro dato de tipo real x y calcular x^n usando ciclos for.\n"
   ]
  },
  {
   "cell_type": "code",
   "execution_count": null,
   "metadata": {},
   "outputs": [],
   "source": [
    "# Se solicita ingresar un número real x y un número natural n y se almacenan en las variables correspondientes.\n",
    "x = float(input(\"Ingrese un número: \"))\n",
    "n = int(input(\"Ingrese otro número: \"))\n",
    "\n",
    "   # Se utiliza un ciclo for para iterar desde 1 hasta el número n ingresado por el usuario.\n",
    "   # En cada iteración se calcula el valor de x elevado a la potencia actual (u).\n",
    "   # Se imprime el resultado de cada potencia en la salida.\n",
    "for u in range(1, n+1):\n",
    "    h = x ** u\n",
    "    print(h)"
   ]
  },
  {
   "attachments": {},
   "cell_type": "markdown",
   "metadata": {},
   "source": [
    "7. Diseñe un programa que muestre las tablas de multiplicar del 1 al 9.\n"
   ]
  },
  {
   "cell_type": "code",
   "execution_count": 11,
   "metadata": {},
   "outputs": [
    {
     "name": "stdout",
     "output_type": "stream",
     "text": [
      "Esta es la tabla del 1\n",
      "1x1= 1\n",
      "1x2= 2\n",
      "1x3= 3\n",
      "1x4= 4\n",
      "1x5= 5\n",
      "1x6= 6\n",
      "1x7= 7\n",
      "1x8= 8\n",
      "1x9= 9\n",
      "1x10= 10\n",
      "Esta es la tabla del 2\n",
      "2x1= 2\n",
      "2x2= 4\n",
      "2x3= 6\n",
      "2x4= 8\n",
      "2x5= 10\n",
      "2x6= 12\n",
      "2x7= 14\n",
      "2x8= 16\n",
      "2x9= 18\n",
      "2x10= 20\n",
      "Esta es la tabla del 3\n",
      "3x1= 3\n",
      "3x2= 6\n",
      "3x3= 9\n",
      "3x4= 12\n",
      "3x5= 15\n",
      "3x6= 18\n",
      "3x7= 21\n",
      "3x8= 24\n",
      "3x9= 27\n",
      "3x10= 30\n",
      "Esta es la tabla del 4\n",
      "4x1= 4\n",
      "4x2= 8\n",
      "4x3= 12\n",
      "4x4= 16\n",
      "4x5= 20\n",
      "4x6= 24\n",
      "4x7= 28\n",
      "4x8= 32\n",
      "4x9= 36\n",
      "4x10= 40\n",
      "Esta es la tabla del 5\n",
      "5x1= 5\n",
      "5x2= 10\n",
      "5x3= 15\n",
      "5x4= 20\n",
      "5x5= 25\n",
      "5x6= 30\n",
      "5x7= 35\n",
      "5x8= 40\n",
      "5x9= 45\n",
      "5x10= 50\n",
      "Esta es la tabla del 6\n",
      "6x1= 6\n",
      "6x2= 12\n",
      "6x3= 18\n",
      "6x4= 24\n",
      "6x5= 30\n",
      "6x6= 36\n",
      "6x7= 42\n",
      "6x8= 48\n",
      "6x9= 54\n",
      "6x10= 60\n",
      "Esta es la tabla del 7\n",
      "7x1= 7\n",
      "7x2= 14\n",
      "7x3= 21\n",
      "7x4= 28\n",
      "7x5= 35\n",
      "7x6= 42\n",
      "7x7= 49\n",
      "7x8= 56\n",
      "7x9= 63\n",
      "7x10= 70\n",
      "Esta es la tabla del 8\n",
      "8x1= 8\n",
      "8x2= 16\n",
      "8x3= 24\n",
      "8x4= 32\n",
      "8x5= 40\n",
      "8x6= 48\n",
      "8x7= 56\n",
      "8x8= 64\n",
      "8x9= 72\n",
      "8x10= 80\n",
      "Esta es la tabla del 9\n",
      "9x1= 9\n",
      "9x2= 18\n",
      "9x3= 27\n",
      "9x4= 36\n",
      "9x5= 45\n",
      "9x6= 54\n",
      "9x7= 63\n",
      "9x8= 72\n",
      "9x9= 81\n",
      "9x10= 90\n"
     ]
    }
   ],
   "source": [
    "# Se utiliza un ciclo for para iterar desde 1 hasta 9 para mostrar las tablas de multiplicar del 1 al 9.\n",
    "for u in range(1,10):\n",
    "# Se imprime el número de la tabla actual.\n",
    "    print(\"Esta es la tabla del \" +str(u))\n",
    "# Se utiliza otro ciclo for para iterar desde 1 hasta 10 para mostrar los resultados de la tabla actual.\n",
    "    for j in range(1, 11):\n",
    "       Tabla= u*j\n",
    "       print(str(u) +\"x\" +str(j)+ \"= \" + str(Tabla))       "
   ]
  },
  {
   "attachments": {},
   "cell_type": "markdown",
   "metadata": {},
   "source": [
    "8. Diseñar una función que permita calcular una aproximación de la función exponencial alrededor de 0 para cualquier valor x (real), utilizando los primeros n términos de la serie de Maclaurin. nota: use math para traer la función exponencial y mostrar la diferencia entre el valor real y la aproximación."
   ]
  },
  {
   "cell_type": "code",
   "execution_count": null,
   "metadata": {},
   "outputs": [],
   "source": [
    "import math\n",
    "# Se pide al usuario que ingrese un valor para x y n\n",
    "x = float(input(\"Ingrese un valor para x: \"))\n",
    "n = int(input(\"Ingrese un valor para n: \"))\n",
    "\n",
    "# Inicializa la variable de la aproximación en 0\n",
    "aproximado = 0.0\n",
    "\n",
    "# Ciclo for que itera n veces para calcular la aproximación\n",
    "for i in range(n):\n",
    "# Calcula el término correspondiente de la serie de Maclaurin y lo agrega a la aproximación\n",
    "    aproximado += ((x**i) / (math.factorial(i)))\n",
    "\n",
    "   # Calcula el valor real de la función exponencial\n",
    "actual = math.exp(x)\n",
    "\n",
    "   # Calcula la diferencia entre el valor real y la aproximación\n",
    "diff = actual - aproximado\n",
    "\n",
    "   # Imprime los resultados\n",
    "print(\"Aproximación: \" + str(aproximado) + \", Valor real: \" + str(actual) + \", Diferencia: \" + str(diff))"
   ]
  },
  {
   "attachments": {},
   "cell_type": "markdown",
   "metadata": {},
   "source": [
    "9. Diseñar una función que permita calcular una aproximación de la función seno alrededor de 0 para cualquier valor x (real), utilizando los primeros n términos de la serie de Maclaurin. nota: use math para traer la función seno y mostrar la diferencia entre el valor real y la aproximación. 9\n"
   ]
  },
  {
   "cell_type": "code",
   "execution_count": 16,
   "metadata": {},
   "outputs": [
    {
     "name": "stdout",
     "output_type": "stream",
     "text": [
      "Aproximación: -13874206272884.33, Valor real: 0.9995201585807313, Diferencia: 13874206272885.33\n",
      "Aproximación: -13874206272884.33, Valor real: 0.9995201585807313, Diferencia: 13874206272885.33\n"
     ]
    }
   ],
   "source": [
    "  \n",
    " # Se pide ingresar un valor para x y otro valor para n.\n",
    "\n",
    "x = float(input(\"Ingrese un valor para x: \"))\n",
    "n = int(input(\"Ingrese un valor para n: \"))\n",
    "   #Se importa la librería math.\n",
    "import math\n",
    "\n",
    "  # Se inicia la variable 'aproximado' en 0.0.\n",
    "  # Se utiliza un ciclo 'for' para iterar desde 0 hasta n-1.\n",
    "  # Se actualiza la variable 'aproximado' con cada iteración, utilizando la fórmula de la serie de Taylor para el seno.\n",
    "  # En cada iteración se eleva (-1) a la i, se eleva x a la (2i+1) y se divide entre el factorial de (2i+1).\n",
    "aproximado = 0.0\n",
    "for i in range(n):\n",
    "    aproximado += (-1)**i * x**(2*i+1) / math.factorial(2*i+1)\n",
    "\n",
    "actual = math.sin(x)\n",
    "diff = abs(actual - aproximado)\n",
    "    \n",
    "print(\"Aproximación: \" + str(aproximado) + \", Valor real: \" + str(actual) + \", Diferencia: \" + str(diff))\n",
    "  # Se calcula el valor real de sin(x) utilizando la función math.sin().\n",
    "  # Se calcula la diferencia entre la aproximación y el valor real de sin(x).\n",
    "actual = math.sin(x)\n",
    "diff = abs(actual - aproximado)\n",
    "\n",
    "  # Se muestra la aproximación, el valor real y la diferencia entre ellos.\n",
    "print(\"Aproximación: \" + str(aproximado) + \", Valor real: \" + str(actual) + \", Diferencia: \" + str(diff))"
   ]
  },
  {
   "attachments": {},
   "cell_type": "markdown",
   "metadata": {},
   "source": [
    "10. Diseñar una función que permita calcular una aproximación de la función arcotangente alrededor de 0 para cualquier valor x en el rango [-1, 1], utilizando los primeros n términos de la serie de Maclaurin. nota: use math para traer la función arctan y mostrar la diferencia entre el valor real y la aproximación.\n",
    "\n",
    "\n",
    "\n",
    "Disclaimer: Para las aproximaciones de series determine con que valor n se obtiene menos del 0.1% de error."
   ]
  },
  {
   "cell_type": "code",
   "execution_count": null,
   "metadata": {},
   "outputs": [],
   "source": [
    "import math\n",
    "\n",
    "  # se pude ingresar un valor para x en el rango [-1, 1] y un valor para n\n",
    "x = float(input(\"Ingrese un valor para x: (x debe estar en el rango [-1, 1]) \"))\n",
    "n = int(input(\"Ingrese un valor para n: \"))\n",
    "\n",
    "  # Verificamos si el valor ingresado para x está en el rango [-1, 1]\n",
    "if -1 <= x <= 1:\n",
    "    approx = 0\n",
    "      # Realizamos la aproximación de la función arcotangente utilizando la serie de Taylor\n",
    "    for i in range(n):\n",
    "           term = ((-1)**i * x**(2*i+1)) / (2*i+1)\n",
    "           approx += term\n",
    "      # Calculamos el valor real de la función arcotangente utilizando la función atan de la biblioteca math\n",
    "    actual = math.atan(x)\n",
    "      # Calculamos la diferencia entre la aproximación y el valor real\n",
    "    diff = abs(actual - approx)\n",
    "      # Si la diferencia es mayor que 0.001 veces el valor real, aumentamos el número de términos en la serie y recalculamos la aproximación y la diferencia\n",
    "    while diff > 0.001 * abs(actual):\n",
    "        n += 2\n",
    "        approx = 0\n",
    "        for i in range(n):\n",
    "               term = ((-1)**i * x**(2*i+1)) / (2*i+1)\n",
    "               approx += term\n",
    "        diff = abs(actual - approx)\n",
    "      # Imprimimos la aproximación, el valor real y la diferencia\n",
    "        print(\"Aproximación: \" + str(approx) + \", Valor real: \" + str(actual) + \", Diferencia: \" + str(diff))\n",
    "else:\n",
    "      # Si el valor ingresado para x no está en el rango [-1, 1], le indicamos al usuario que lo vuelva a intentar\n",
    "    print(\"El valor ingresado para x no está en el rango [-1, 1]. Por favor, inténtelo de nuevo.\")"
   ]
  }
 ],
 "metadata": {
  "kernelspec": {
   "display_name": "Python 3",
   "language": "python",
   "name": "python3"
  },
  "language_info": {
   "codemirror_mode": {
    "name": "ipython",
    "version": 3
   },
   "file_extension": ".py",
   "mimetype": "text/x-python",
   "name": "python",
   "nbconvert_exporter": "python",
   "pygments_lexer": "ipython3",
   "version": "3.10.11"
  },
  "orig_nbformat": 4
 },
 "nbformat": 4,
 "nbformat_minor": 2
}
